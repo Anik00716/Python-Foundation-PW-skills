{
 "cells": [
  {
   "cell_type": "markdown",
   "id": "24edc153",
   "metadata": {},
   "source": [
    "Q1. How can we store single quote (') as a string in variable?\n",
    "\n",
    "A1. To store a single quote (') as a string in a variable in Python, we can use double quotes (\"\") to define the string. Here are some examples:\n",
    "\n",
    "Using double quotes:\n",
    "\n",
    "my_string = \"I'm a string with a single quote!\""
   ]
  },
  {
   "cell_type": "markdown",
   "id": "91d665b6",
   "metadata": {},
   "source": [
    "Q2. Refer the bellow variable:\n",
    "    x = 'a'\n",
    "    Here, is x a character type or string type variable? Support your answer with an explanation.\n",
    "    \n",
    "A2. In Python, both characters and strings are represented using the same data type: strings. So, the variable x in our example is a string type variable with a length of 1 character.\n",
    "\n",
    "In Python, a string is defined as a sequence of one or more characters enclosed in either single quotes ('...') or double quotes (\"...\"). So, even if you define a string with only one character, it is still a string.\n",
    "\n",
    "For example:\n",
    "\n",
    "x = 'a'  # x is a string with one character\n",
    "\n",
    "y = 'Hello'  # y is a string with five characters\n",
    "\n",
    "In both cases, x and y are string type variables, even though x contains only one character and y contains multiple characters."
   ]
  },
  {
   "cell_type": "markdown",
   "id": "51cbaf02",
   "metadata": {},
   "source": [
    "Q3. Apply the following functions on this variable: 'Welcome to Python Foundation Course'\n",
    "\n",
    "    1. find()\n",
    "    2. count()\n",
    "    3. len()\n",
    "    4.Concatenation\n",
    "  Note: You can use your choice of parameters. But make sure it is correct.\n",
    "  \n",
    "A3. \n",
    "    1.find(): The find() function returns the index of the first occurrence of a specified substring in a string. If the substring is not found, it returns -1.\n",
    "    \n",
    "    my_string = 'Welcome to Python Foundation Course'\n",
    "print(my_string.find('Python'))  # Output: 11\n",
    "print(my_string.find('Java'))  # Output: -1 (since 'Java' is not found in the string)\n",
    "\n",
    "    2.count(): The count() function returns the number of occurrences of a specified substring in a string.\n",
    "    \n",
    "   my_string = 'Welcome to Python Foundation Course'\n",
    "print(my_string.count('o'))  # Output: 5 (since 'o' occurs 5 times in the string)\n",
    "print(my_string.count('Java'))  # Output: 0 (since 'Java' is not found in the string)\n",
    "    \n",
    "    3.len(): The len() function returns the length of a string.\n",
    "   \n",
    "   my_string = 'Welcome to Python Foundation Course'\n",
    "print(len(my_string))  # Output: 34 (since there are 34 characters in the string)\n",
    "\n",
    "    4. Concatenation: Concatenation of strings is done using the + operator.\n",
    "    \n",
    "   my_string1 = 'Welcome to Python'\n",
    "my_string2 = 'Foundation Course'\n",
    "concatenated_string = my_string1 + ' ' + my_string2\n",
    "print(concatenated_string)  # Output: 'Welcome to Python Foundation Course'"
   ]
  },
  {
   "cell_type": "markdown",
   "id": "bfa0f0f3",
   "metadata": {},
   "source": [
    "Q4. For the variable: word = ‘PanaJi@12256' \n",
    "\n",
    "Calculate the following:\n",
    "\n",
    "(a) Total number of alphabets in lowercase\n",
    "\n",
    "(b) Total number of alphabets in uppercase\n",
    "\n",
    "(c) Total number of numerical in string\n",
    "\n",
    "A4. \n",
    "    a) Total number of lowercase alphabets: 3\n",
    "    \n",
    "    b)Total number of uppercase alphabets: 2\n",
    "    \n",
    "    c)Total number of numerical characters: 5\n"
   ]
  },
  {
   "cell_type": "markdown",
   "id": "7d04dd2f",
   "metadata": {},
   "source": [
    "Q5. Write a code to store a numarical value inside a variable then convert it into string.\n",
    "\n",
    "A5. \n",
    "# Store a numerical value in a variable\n",
    "num = 1234\n",
    "\n",
    "# Convert the numerical value to a string\n",
    "num_str = str(num)\n",
    "\n",
    "# Print the variable and its data type\n",
    "print(num_str)\n",
    "print(type(num_str))\n",
    "\n",
    "#output\n",
    " 1234\n",
    "<class 'str'>\n"
   ]
  }
 ],
 "metadata": {
  "kernelspec": {
   "display_name": "Python 3 (ipykernel)",
   "language": "python",
   "name": "python3"
  },
  "language_info": {
   "codemirror_mode": {
    "name": "ipython",
    "version": 3
   },
   "file_extension": ".py",
   "mimetype": "text/x-python",
   "name": "python",
   "nbconvert_exporter": "python",
   "pygments_lexer": "ipython3",
   "version": "3.9.13"
  }
 },
 "nbformat": 4,
 "nbformat_minor": 5
}
