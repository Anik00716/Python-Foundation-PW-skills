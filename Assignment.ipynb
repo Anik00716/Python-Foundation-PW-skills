{
 "cells": [
  {
   "cell_type": "raw",
   "id": "8f8969cb-3caa-4c7e-a515-98a8d438a5e2",
   "metadata": {},
   "source": [
    "Q1. Write all the conventions being followed while declaring a variable.\n",
    "A1. In Python, there are some conventions that are commonly followed when declaring variables. Here are some of them:\n",
    "\n",
    "    Variable names should be descriptive: Variable names should reflect the purpose of the variable, so it's clear what data it represents. For example, use name instead of n.\n",
    "\n",
    "    Use lowercase letters: In Python, it's common to use all lowercase letters for variable names. For example, my_variable instead of My_Variable.\n",
    "\n",
    "    Use underscores to separate words: If a variable name consists of multiple words, use underscores to separate them. For example, my_variable_name instead of myvariablename.\n",
    "\n",
    "    Avoid using reserved words: Don't use Python's reserved words for variable names. For example, if, else, for, while, etc.\n",
    "\n",
    "    Use camel case for class names: If you're defining a class, use camel case to separate words. For example, MyClass instead of my_class.\n",
    "\n",
    "    Use all caps for constants: If you're defining a constant value, use all caps. For example, MAX_SIZE instead of max_size.\n",
    "\n",
    "    Be consistent: Whatever conventions you choose to follow, be consistent throughout your code."
   ]
  },
  {
   "cell_type": "raw",
   "id": "ccbc76b7-49c5-4eb4-9ac6-bc52d4d2b796",
   "metadata": {},
   "source": [
    "Q2. What will happen if we declare a restricted keyword as a variable?\n",
    "A2. If you declare a restricted keyword as a variable in Python, you will get a syntax error. This is because restricted keywords are reserved for use by the Python language itself and cannot be used as variable names.\n",
    "\n",
    "For example, if you try to declare a variable with the name if, you will get a syntax error:\n",
    "\n",
    "if = 10\n",
    "SyntaxError: invalid syntax"
   ]
  },
  {
   "cell_type": "raw",
   "id": "6b1129ff-47be-4607-8e06-e799d38ba039",
   "metadata": {
    "jupyter": {
     "source_hidden": true
    },
    "tags": []
   },
   "source": [
    "Q3. Can we actually declare a string as a variable name?\n",
    "A3. Yes, we can declare a string as a variable name in Python. However, it's not recommended because it can make our code harder to read and understand."
   ]
  },
  {
   "cell_type": "raw",
   "id": "04eda706-e4f6-4c77-9792-6567bd8f976e",
   "metadata": {},
   "source": [
    "Q4. Is it possible for us to declare “_” as a variable? If so, then write an example of it.\n",
    "A4. Yes, it is possible to declare the underscore character (_) as a variable in Python. In fact, the underscore character has a special meaning in Python and can be used in a few different ways.\n",
    "\n",
    "Here's an example of declaring a variable using the underscore character:\n",
    "\n",
    "_ = 42\n",
    "print(_)  # Output: 42\n",
    "\n",
    "In this example, we declare a variable using the underscore character with the value 42. We then use the print() function to output the value of the variable, which is 42."
   ]
  },
  {
   "cell_type": "raw",
   "id": "bab8c8a9-706a-4c0c-85ec-d478b9fcdcf5",
   "metadata": {},
   "source": [
    "Q5. Using an example, explain how the variables in python are dynamic in nature.\n",
    "A5. Variables in Python are dynamic in nature, which means that the type of a variable can change dynamically during the execution of a program.\n",
    "\n",
    "Here's an example to demonstrate how variables in Python are dynamic:\n",
    "x = 5\n",
    "print(x)  # Output: 5\n",
    "\n",
    "x = \"hello\"\n",
    "print(x)  # Output: hello\n",
    "\n",
    "x = [1, 2, 3]\n",
    "print(x)  # Output: [1, 2, 3]\n"
   ]
  }
 ],
 "metadata": {
  "kernelspec": {
   "display_name": "Python 3 (ipykernel)",
   "language": "python",
   "name": "python3"
  },
  "language_info": {
   "codemirror_mode": {
    "name": "ipython",
    "version": 3
   },
   "file_extension": ".py",
   "mimetype": "text/x-python",
   "name": "python",
   "nbconvert_exporter": "python",
   "pygments_lexer": "ipython3",
   "version": "3.10.8"
  }
 },
 "nbformat": 4,
 "nbformat_minor": 5
}
